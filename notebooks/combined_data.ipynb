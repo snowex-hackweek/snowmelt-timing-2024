{
 "cells": [
  {
   "cell_type": "markdown",
   "id": "930856ac-c357-4ce3-b3b1-6521815f6565",
   "metadata": {},
   "source": [
    "# Combining all data"
   ]
  },
  {
   "cell_type": "code",
   "execution_count": null,
   "id": "5041331e-caef-4cf0-923b-9272fd01c700",
   "metadata": {},
   "outputs": [],
   "source": [
    "!pip install -q easysnowdata"
   ]
  },
  {
   "cell_type": "code",
   "execution_count": null,
   "id": "5656f738-5e1b-4043-8712-0fcae290f36f",
   "metadata": {},
   "outputs": [],
   "source": [
    "import pandas as pd\n",
    "import geopandas as gpd\n",
    "import rasterio as rio\n",
    "import matplotlib.pyplot as plt\n",
    "import easysnowdata\n",
    "import folium\n",
    "import earthaccess"
   ]
  },
  {
   "cell_type": "code",
   "execution_count": null,
   "id": "98741e8d-46c5-4917-84f3-768e23b7f205",
   "metadata": {},
   "outputs": [],
   "source": [
    "bbox_gdf = gpd.read_file('grand_mesa.geojson')\n",
    "sample_area_gdf = gpd.read_file('../../data/sample_area.geojson')\n",
    "sample_area_proj_gdf = sample_area_gdf.to_crs('EPSG:32613')"
   ]
  },
  {
   "cell_type": "code",
   "execution_count": null,
   "id": "be07046f-0a1d-4b48-ab36-664536d69b70",
   "metadata": {},
   "outputs": [],
   "source": []
  },
  {
   "cell_type": "code",
   "execution_count": null,
   "id": "93ef66c8-8347-4bfc-bd68-d2116c5b9233",
   "metadata": {},
   "outputs": [],
   "source": [
    "station_collection = easysnowdata.automatic_weather_stations.StationCollection(sortby_dist_to_geom=bbox_gdf)\n",
    "station_collection.get_data('622_CO_SNTL',variables=['WTEQ'])\n",
    "#station_collection.WTEQ.loc[slice('2019-10-01','2020-09-30')].plot(ax=ax) # snotel"
   ]
  },
  {
   "cell_type": "code",
   "execution_count": null,
   "id": "e4d0f2ed-0a4d-4ff3-9085-348be74c6bb2",
   "metadata": {},
   "outputs": [],
   "source": []
  },
  {
   "cell_type": "code",
   "execution_count": null,
   "id": "b648b603-890d-4e41-b7e0-d1535e455443",
   "metadata": {},
   "outputs": [],
   "source": [
    "s2 = easysnowdata.remote_sensing.Sentinel2(\n",
    "    bbox_input=sample_area_gdf,\n",
    "    start_date=\"2022-04-01\",\n",
    "    end_date=\"2022-04-30\",\n",
    "    resolution=40,\n",
    "    catalog_choice=\"planetarycomputer\",\n",
    ")"
   ]
  },
  {
   "cell_type": "code",
   "execution_count": null,
   "id": "f6c89ad7-719b-490e-a9d1-24ee14f4922f",
   "metadata": {},
   "outputs": [],
   "source": [
    "s2.data"
   ]
  },
  {
   "cell_type": "code",
   "execution_count": null,
   "id": "4f9bc5a5-5669-47e8-b888-26d40feed0a2",
   "metadata": {},
   "outputs": [],
   "source": [
    "s2.get_rgb()\n",
    "s2.get_ndsi()"
   ]
  },
  {
   "cell_type": "code",
   "execution_count": null,
   "id": "d1685677-d4f3-455b-bafe-0ddc50af6bba",
   "metadata": {},
   "outputs": [],
   "source": []
  },
  {
   "cell_type": "code",
   "execution_count": null,
   "id": "7f5385de-b586-49f1-b453-b6a0f1a619ff",
   "metadata": {},
   "outputs": [],
   "source": [
    "earthaccess.login()"
   ]
  },
  {
   "cell_type": "code",
   "execution_count": null,
   "id": "54a00d1d-9acc-4c0b-9600-72405be291cb",
   "metadata": {},
   "outputs": [],
   "source": [
    "mod10a1f = easysnowdata.remote_sensing.MODIS_snow(bbox_gdf, start_date='2022-04-01', end_date='2022-04-30', data_product='MOD10A1F')"
   ]
  },
  {
   "cell_type": "code",
   "execution_count": null,
   "id": "75a01108-e450-4dce-9e81-78868488f45e",
   "metadata": {},
   "outputs": [],
   "source": []
  },
  {
   "cell_type": "code",
   "execution_count": null,
   "id": "ea4e0dd7-80bd-4af8-b378-ad161a59247a",
   "metadata": {},
   "outputs": [],
   "source": [
    "s1 = easysnowdata.remote_sensing.Sentinel1(\n",
    "    bbox_input=bbox_gdf, start_date=\"2019-10-01\", end_date=\"2020-09-30\", resolution=80, remove_border_noise=False,\n",
    ")"
   ]
  },
  {
   "cell_type": "code",
   "execution_count": null,
   "id": "753d8445-00d9-4ea6-abf1-49bb46aca329",
   "metadata": {},
   "outputs": [],
   "source": [
    "s1_rtc_sample_ds = s1.data.rio.clip(sample_area_proj_gdf.geometry)\n",
    "s1_rtc_sample_median_ds = s1_rtc_sample_ds.median(dim=['x','y']).compute()"
   ]
  },
  {
   "cell_type": "code",
   "execution_count": null,
   "id": "868e592d-eaf5-4330-94a5-7eb9a550fc36",
   "metadata": {},
   "outputs": [],
   "source": [
    "orbits = s1_rtc_sample_median_ds['sat:relative_orbit'].values\n",
    "unique_orbits = np.unique(orbits)\n",
    "colors = plt.cm.rainbow(np.linspace(0, 1, len(unique_orbits)))\n",
    "\n",
    "f,ax=plt.subplots(figsize=(10,5))\n",
    "\n",
    "for i, orbit in enumerate(unique_orbits):\n",
    "\n",
    "    if orbit in [56,151]:\n",
    "        continue\n",
    "        \n",
    "    orbit_data = s1_rtc_sample_median_ds.where(s1_rtc_sample_median_ds['sat:relative_orbit'] == orbit, drop=True)\n",
    "\n",
    "    time_of_day = \"~6pm\" if orbit_data['sat:orbit_state'].values[0] == \"ascending\" else \"~6am\"\n",
    "    \n",
    "    # Plot VV\n",
    "    ax.plot(orbit_data.time, orbit_data.vv, \n",
    "             color=colors[i], linestyle='-', label=f'VV Orbit {orbit} ({time_of_day})')\n",
    "    \n",
    "    # Plot VH\n",
    "    ax.plot(orbit_data.time, orbit_data.vh, \n",
    "             color=colors[i], linestyle='--', label=f'VH Orbit {orbit} ({time_of_day})')\n",
    "\n",
    "# Customize the plot\n",
    "ax.set_xlabel('Time')\n",
    "ax.set_ylabel('Backscatter (dB)')\n",
    "ax.set_title('S1 RTC VV and VH Backscatter by Relative Orbit')\n",
    "ax.legend()"
   ]
  }
 ],
 "metadata": {
  "kernelspec": {
   "display_name": "Python 3 (ipykernel)",
   "language": "python",
   "name": "python3"
  },
  "language_info": {
   "codemirror_mode": {
    "name": "ipython",
    "version": 3
   },
   "file_extension": ".py",
   "mimetype": "text/x-python",
   "name": "python",
   "nbconvert_exporter": "python",
   "pygments_lexer": "ipython3",
   "version": "3.11.9"
  }
 },
 "nbformat": 4,
 "nbformat_minor": 5
}
