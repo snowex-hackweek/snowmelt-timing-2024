{
 "cells": [
  {
   "cell_type": "markdown",
   "id": "e231b4e5-bf2b-4bec-b1a8-e82e45fea3b6",
   "metadata": {},
   "source": [
    "# ERA5 and SNOTEL\n",
    "### Download ERA5 and multiple SNOTEL data sites\n",
    "\n",
    "This is a mix of command line run in the notebook and Python code"
   ]
  },
  {
   "cell_type": "code",
   "execution_count": null,
   "id": "a5c65f6a-ca64-4338-9ec0-a16ed11f3d2e",
   "metadata": {
    "scrolled": true
   },
   "outputs": [],
   "source": [
    "! pip install era5cli && pip install metloom && pip install pyarrow"
   ]
  },
  {
   "cell_type": "markdown",
   "id": "896dec5c-7444-42e9-9b95-cc6336940e6c",
   "metadata": {},
   "source": [
    "Add your ID_number and KEY below following the [era5cli documentation](https://era5cli.readthedocs.io/en/stable/getting_started/)"
   ]
  },
  {
   "cell_type": "code",
   "execution_count": null,
   "id": "8c8f3fd1-2738-47ba-b214-2f200fe900fe",
   "metadata": {},
   "outputs": [],
   "source": [
    "era5cli config --uid ID_NUMBER --key \"KEY\""
   ]
  },
  {
   "cell_type": "markdown",
   "id": "7900a654-9851-4896-8361-a82c5c2e6f29",
   "metadata": {},
   "source": [
    "The cell below has the variables, years, splits out months, for the bounding box around Grand Mesa CO"
   ]
  },
  {
   "cell_type": "code",
   "execution_count": null,
   "id": "befe8b1c-0696-4276-87d9-76c8e5be21fc",
   "metadata": {},
   "outputs": [],
   "source": [
    "! era5cli hourly \\\n",
    "    --land \\\n",
    "    --variables 2m_temperature 2m_dewpoint_temperature u_component_of_wind v_component_of_wind specific_snow_water_content\\\n",
    "    --startyear 2020 \\\n",
    "    --endyear 2022 \\\n",
    "    --splitmonths True \\\n",
    "    --area 39.21 -108.36 38.80 -107.62"
   ]
  },
  {
   "cell_type": "markdown",
   "id": "b1fb5728-fbfb-44b1-9300-950f68c8fca7",
   "metadata": {},
   "source": [
    "### SNOTEL Data\n",
    "With the ERA5 data downloaded now download the SNOTEL data via Python"
   ]
  },
  {
   "cell_type": "code",
   "execution_count": null,
   "id": "fd897649-0879-4583-9d09-4d3070d06476",
   "metadata": {},
   "outputs": [],
   "source": [
    "from metloom.pointdata import SnotelPointData\n",
    "import pandas as pd\n",
    "from datetime import datetime\n",
    "\n",
    "GRAND_MESA_SITES = {\"Mesa Lakes\": \"622:CO:SNTL\", \"Park Reservoir\": \"682:CO:SNTL\"}\n",
    "\n",
    "ALLOWED_VARIABLES = [\n",
    "    SnotelPointData.ALLOWED_VARIABLES.SWE,\n",
    "    SnotelPointData.ALLOWED_VARIABLES.TEMPAVG,\n",
    "    SnotelPointData.ALLOWED_VARIABLES.SNOWDEPTH,\n",
    "    SnotelPointData.ALLOWED_VARIABLES.PRECIPITATION,\n",
    "]\n",
    "\n",
    "\n",
    "def get_multiple_sites(\n",
    "    start_date: datetime, end_date: datetime, variables: list, site_dict: dict\n",
    ") -> pd.DataFrame:\n",
    "    \"\"\"\n",
    "    Get's multiple SNOTEL sites and combines them into one unsorted pandas dataframe\n",
    "    \"\"\"\n",
    "    df = pd.DataFrame()\n",
    "    for site_name in site_dict.keys():\n",
    "        single_point = SnotelPointData(station_id=site_dict[site_name], name=site_name)\n",
    "        print(f\"{single_point} download is complete\")\n",
    "        single_data = single_point.get_daily_data(\n",
    "            start_date=start_date,\n",
    "            end_date=end_date,\n",
    "            variables=variables,\n",
    "        )\n",
    "        df = pd.concat([df, single_data])\n",
    "    return df"
   ]
  },
  {
   "cell_type": "markdown",
   "id": "eb036a55-7f91-425c-84fa-88d9c4a61184",
   "metadata": {},
   "source": [
    "An example to download the Grand Mesa SNOTEL data for two days in October 2020"
   ]
  },
  {
   "cell_type": "code",
   "execution_count": null,
   "id": "902e298a-ac2e-43b8-960b-502fd97528ac",
   "metadata": {},
   "outputs": [],
   "source": [
    "get_multiple_sites(\n",
    "    datetime(*(2020, 10, 1)),\n",
    "    datetime(*(2020, 10, 2)),\n",
    "    ALLOWED_VARIABLES,\n",
    "    GRAND_MESA_SITES,\n",
    ")"
   ]
  },
  {
   "cell_type": "code",
   "execution_count": null,
   "id": "cedf13f0-e50d-419f-9f3f-a361bac07e20",
   "metadata": {},
   "outputs": [],
   "source": [
    "gm_df = get_multiple_sites(\n",
    "    datetime(*(2020, 10, 1)),\n",
    "    datetime(*(2021, 10, 1)),\n",
    "    ALLOWED_VARIABLES,\n",
    "    GRAND_MESA_SITES,\n",
    ")"
   ]
  },
  {
   "cell_type": "code",
   "execution_count": null,
   "id": "dcfdd113-3c33-465e-a2d6-43f39631564e",
   "metadata": {},
   "outputs": [],
   "source": [
    "gm_df.to_csv(\"grand_mesa_snotel.csv\")"
   ]
  },
  {
   "cell_type": "code",
   "execution_count": null,
   "id": "2a0ae1a3-0ce1-47aa-b687-86b09043bc94",
   "metadata": {},
   "outputs": [],
   "source": []
  }
 ],
 "metadata": {
  "kernelspec": {
   "display_name": "Python 3 (ipykernel)",
   "language": "python",
   "name": "python3"
  },
  "language_info": {
   "codemirror_mode": {
    "name": "ipython",
    "version": 3
   },
   "file_extension": ".py",
   "mimetype": "text/x-python",
   "name": "python",
   "nbconvert_exporter": "python",
   "pygments_lexer": "ipython3",
   "version": "3.11.9"
  }
 },
 "nbformat": 4,
 "nbformat_minor": 5
}
