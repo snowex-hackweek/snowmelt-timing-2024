{
 "cells": [
  {
   "cell_type": "code",
   "execution_count": null,
   "id": "3da96a0f-fe2b-48b7-8295-e4f26302aea6",
   "metadata": {},
   "outputs": [],
   "source": [
    "# load dependencies and allow interactivity\n",
    "%matplotlib widget\n",
    "\n",
    "import rioxarray as rxr\n",
    "import matplotlib.pyplot as plt\n",
    "import pandas as pd\n",
    "import glob\n",
    "import os\n",
    "import numpy as np"
   ]
  },
  {
   "cell_type": "code",
   "execution_count": null,
   "id": "c21152c5-a5c8-4375-88dd-3f6ab41f391d",
   "metadata": {},
   "outputs": [],
   "source": [
    "data_direc = '/home/etboud/projects/data/planet/DNBC/'\n",
    "\n",
    "BS = '/home/etboud/projects/data/basins/DLNY/DLNY_4326.geojson'\n",
    "basin = gpd.read_file(BS)\n",
    "basin=basin.to_crs('EPSG:32611')\n",
    "\n",
    "subdirecs = sorted([d for d in glob.glob(data_direc + str(focus_year) + '*') if os.path.isdir(d)])\n",
    "print('length of data record: ',len(subdirecs))"
   ]
  },
  {
   "cell_type": "code",
   "execution_count": null,
   "id": "b912a412-f603-4bb9-be7a-a2a1ac35c3c6",
   "metadata": {},
   "outputs": [],
   "source": [
    "#### functions\n",
    "def calc_rgb(ds):\n",
    "    # Selecting RGB bands\n",
    "    blue_band = ds.isel(band=0)\n",
    "    green_band = ds.isel(band=1)\n",
    "    red_band = ds.isel(band=2)\n",
    "    nir_band = ds.isel(band=3)\n",
    "    \n",
    "    # normalize to help visual understanding\n",
    "    maxval = green_band.max().values\n",
    "    minval = green_band.min().values\n",
    "    red_norm = (red_band - minval) / (maxval - minval)\n",
    "    green_norm = (green_band - minval) / (maxval - minval)\n",
    "    blue_norm = (blue_band - minval) / (maxval - minval)\n",
    "    green_norm = green_norm.where(red_norm <= 1,1)\n",
    "    blue_norm = blue_norm.where(red_norm <= 1,1)\n",
    "    red_norm = red_norm.where(red_norm <= 1,1)\n",
    "\n",
    "    # port to numpy\n",
    "    red_band = red_band.values\n",
    "    green_band = green_band.values\n",
    "    blue_band = blue_band.values\n",
    "    nir_band = nir_band.values\n",
    "    \n",
    "    # Stack normalized bands to create RGB image\n",
    "    rgb_image = np.stack([red_norm, green_norm, blue_norm], axis=-1)\n",
    "    return red_band,green_band,blue_band,nir_band,rgb_image\n",
    "\n"
   ]
  },
  {
   "cell_type": "code",
   "execution_count": null,
   "id": "389b3f4f-8922-48d9-a4dc-7fcc3ef7588f",
   "metadata": {},
   "outputs": [],
   "source": [
    "for direcCount, direcc in enumerate(subdirecs):  # Adjusted to start at the 44th .tif, [89:], start=88 (this might throw off indexing TODO: CHECK THIS)\n",
    "    try:\n",
    "        fname = glob.glob(direcc + '/*/PSScene/*SR_clip.tif')[0]\n",
    "        ds = rxr.open_rasterio(fname)\n",
    "        red_band, green_band, blue_band, nir_band, rgb_image = calc_rgb(ds)\n",
    "\n",
    "        fg, ax = plt.subplots(figsize=(4, 4))\n",
    "        ax.imshow(rgb_image, cmap='gray')\n",
    "        ax.set_title(f'{direcCount}, {fname.split(\"/\")[-1].split(\"_\")[0]}')\n",
    "\n",
    "    except:\n",
    "        print('bad data')"
   ]
  },
  {
   "cell_type": "code",
   "execution_count": null,
   "id": "fc392811-4233-4c8c-859f-98ce62b9d97e",
   "metadata": {},
   "outputs": [],
   "source": [
    "# run this to determine what set of 10 images to select\n",
    "# view all of the plots to make the set of 10 selection\n",
    "# only for visualization, so comment out if not using\n",
    "\n",
    "# for direcCount,direcc in enumerate(subdirecs):\n",
    "#     try:\n",
    "#         fname = glob.glob(direcc+'/*/PSScene/*SR_clip.tif')[0]\n",
    "#         ds = rxr.open_rasterio(fname)\n",
    "#         red_band, green_band, blue_band, nir_band, rgb_image = calc_rgb(ds)\n",
    "\n",
    "#         fg,ax = plt.subplots(figsize=(4,4))\n",
    "#         ax.imshow(rgb_image,cmap='gray')\n",
    "#         ax.set_title(direcCount)\n",
    "        \n",
    "#     except:\n",
    "#         print('bad data')ps_tif = '/home/etboud/projects/data/planet/DLNY/20230629_175448_06_24ce/88c4e89b-3759-43f1-8d5d-9daada6cab22/PSScene/20230629_175448_06_24ce_3B_AnalyticMS_SR_clip.tif'\n"
   ]
  },
  {
   "cell_type": "code",
   "execution_count": null,
   "id": "531fcf9b-ece8-4700-acd5-d4a4358cf70c",
   "metadata": {},
   "outputs": [],
   "source": [
    "ps_tif = '/home/etboud/projects/data/planet/DLNY/20230629_175448_06_24ce/88c4e89b-3759-43f1-8d5d-9daada6cab22/PSScene/20230629_175448_06_24ce_3B_AnalyticMS_SR_clip.tif'\n",
    "\n",
    "# Open the raster dataset\n",
    "with rxr.open_rasterio(ps_tif, masked=True) as ds:\n",
    "    ds_clipped = ds.rio.clip(basin.geometry)\n",
    "    # Calculate RGB and NIR bands\n",
    "    red_band, green_band, blue_band, nir_band, rgb_image = calc_rgb(ds_clipped)\n",
    "\n",
    "    # Initialize ps_points list\n",
    "    ps_points = []\n",
    "\n",
    "    # Get dimensions of the image\n",
    "    height, width = red_band.shape\n",
    "\n",
    "    # Iterate over all pixel coordinates\n",
    "    for y in range(height):\n",
    "        for x in range(width):\n",
    "            ps_points.append((x, y, red_band[y, x], green_band[y, x], blue_band[y, x], nir_band[y, x],\n",
    "                                rgb_image[y, x, 0], rgb_image[y, x, 1], rgb_image[y, x, 2]))\n",
    "\n",
    "# Create dataframe for PS data\n",
    "ps_df = pd.DataFrame(ps_points, columns=['x', 'y','r','g','b','nir','r_norm','g_norm','b_norm'])"
   ]
  },
  {
   "cell_type": "code",
   "execution_count": null,
   "id": "67ce53c8-ecb4-426f-9f97-de608972de9b",
   "metadata": {},
   "outputs": [],
   "source": [
    "# Paths to files\n",
    "aso_tif = '/home/etboud/projects/data/aso/binary/ASO_Tuolumne_2023Jun26-27_snowdepth_3m_binary.tif'\n",
    "\n",
    "# Open and clip the raster dataset\n",
    "with rxr.open_rasterio(aso_tif, masked=True) as ds:\n",
    "    ds_clipped = ds.rio.clip(basin.geometry, drop=False)\n",
    "\n",
    "    # Initialize aso_points list\n",
    "    aso_points = []\n",
    "\n",
    "    # Get dimensions of the clipped image\n",
    "    height, width = ds_clipped.shape[1], ds_clipped.shape[2]\n",
    "\n",
    "    # Iterate over all pixel coordinates\n",
    "    for y in range(height):\n",
    "        for x in range(width):\n",
    "            aso_points.append((x, y, ds_clipped.values[0, y, x]))\n",
    "\n",
    "# Create dataframe for aso label\n",
    "aso_df = pd.DataFrame(aso_points, columns=['x', 'y', 'label'])"
   ]
  },
  {
   "cell_type": "code",
   "execution_count": null,
   "id": "80a6646a-e89a-41aa-966b-737451ee4518",
   "metadata": {},
   "outputs": [],
   "source": [
    "# Merge the two dataframes on the pixel counts\n",
    "merged_df = pd.merge(aso_df, ps_df, on=['x', 'y'])"
   ]
  },
  {
   "cell_type": "code",
   "execution_count": null,
   "id": "1871c734-7bc8-4bcd-ab4b-587bed567ec0",
   "metadata": {},
   "outputs": [],
   "source": [
    "df = pd.read_csv('/home/etboud/projects/unorganized/aso_classified_2023_class01.csv')"
   ]
  },
  {
   "cell_type": "code",
   "execution_count": null,
   "id": "ec56719d-c835-481c-bfcd-b98b68a9a6f2",
   "metadata": {},
   "outputs": [],
   "source": [
    "df.dropna()"
   ]
  }
 ],
 "metadata": {
  "kernelspec": {
   "display_name": "Python 3 (ipykernel)",
   "language": "python",
   "name": "python3"
  },
  "language_info": {
   "codemirror_mode": {
    "name": "ipython",
    "version": 3
   },
   "file_extension": ".py",
   "mimetype": "text/x-python",
   "name": "python",
   "nbconvert_exporter": "python",
   "pygments_lexer": "ipython3",
   "version": "3.11.9"
  }
 },
 "nbformat": 4,
 "nbformat_minor": 5
}
