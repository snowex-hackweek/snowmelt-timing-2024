{
 "cells": [
  {
   "cell_type": "markdown",
   "id": "e8dacaa7-a176-48b3-88c4-fdfd3ad11f71",
   "metadata": {},
   "source": [
    "### PlanetSCA\n",
    "\n",
    "[ Documentation Here!](https://dshydro.github.io/planetsca/installation.html)"
   ]
  },
  {
   "cell_type": "code",
   "execution_count": 3,
   "id": "652a7c61-2f20-4c00-9de7-3c0f74b3151c",
   "metadata": {},
   "outputs": [],
   "source": [
    "import pandas as pd\n",
    "import geopandas as gpd\n",
    "import rasterio as rio\n",
    "import matplotlib.pyplot as plt\n",
    "import folium\n",
    "import earthaccess"
   ]
  },
  {
   "cell_type": "code",
   "execution_count": null,
   "id": "f8c1e721-1f36-44ba-b9ec-65d806a59794",
   "metadata": {},
   "outputs": [],
   "source": [
    "# enter the Planet user API key\n",
    "\n",
    "item_type = \"PSScene\"\n",
    "bundle_type = \"analytic_sr_udm2\"\n",
    "aoi_coordinates = [-108.36820233, 38.80428988, -107.62767617, 39.2112338]\n",
    "apiKey = ''\n",
    "# asset_type = \"ortho_analytic_4b_sr\" # Not used in package"
   ]
  },
  {
   "cell_type": "code",
   "execution_count": null,
   "id": "0cb31632-1439-41b1-b5b6-44e45d059735",
   "metadata": {},
   "outputs": [],
   "source": [
    "data_gathering.build_payload(item_ids, item_type, bundle_type, aoi_coordinates)\n",
    "data_gathering.download_ready_orders(order_urls, apiKey, out_direc)"
   ]
  }
 ],
 "metadata": {
  "kernelspec": {
   "display_name": "Python 3 (ipykernel)",
   "language": "python",
   "name": "python3"
  },
  "language_info": {
   "codemirror_mode": {
    "name": "ipython",
    "version": 3
   },
   "file_extension": ".py",
   "mimetype": "text/x-python",
   "name": "python",
   "nbconvert_exporter": "python",
   "pygments_lexer": "ipython3",
   "version": "3.11.9"
  }
 },
 "nbformat": 4,
 "nbformat_minor": 5
}
