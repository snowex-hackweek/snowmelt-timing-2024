{
 "cells": [
  {
   "cell_type": "markdown",
   "id": "469685aa-f0f3-4fdf-bbf0-7d27e69c6c0e",
   "metadata": {},
   "source": [
    "# Introduction\n",
    "\n",
    "This notebook is for accessing MODIS data related to snow cover using the Python package earthaccess. We will be accessing the MOD10A1F which is a Level 3 product giving snow cover at 500m resolution. The \"F\" means that grid cells in MOD10A1 (original snow cover product) that are obscured by cloud cover are filled by retaining clear-sky views of the surface from previous days. More on this product can be found [here](https://nsidc.org/data/mod10a1f/versions/61). Much of this code and its documentation is adapted from the [data access tutorials](https://github.com/snowex-hackweek/website-2024/tree/main/book/tutorials/Data_access) from the 2024 UW Hackweek. \n",
    "\n",
    "----------------------------------------------------------------------------------------------------------\n",
    "Notebook by Lexi Arlen\n",
    "\n",
    "August 2024"
   ]
  },
  {
   "cell_type": "code",
   "execution_count": 8,
   "id": "ddaf66e0-838c-4541-9fec-606267497c10",
   "metadata": {},
   "outputs": [],
   "source": [
    "# For searching and accessing NASA data\n",
    "import earthaccess\n",
    "\n",
    "# For reading data, analysis and plotting\n",
    "import xarray as xr\n",
    "import hvplot.xarray\n",
    "\n",
    "import pprint  # For nice printing of python objects\n",
    "\n",
    "import logging"
   ]
  },
  {
   "cell_type": "markdown",
   "id": "8a4a299a-b8e5-4705-944e-b5d0ddb5585e",
   "metadata": {},
   "source": [
    "# Authentication\n",
    "To access data you need to log in with your earthdata account (you may search without logging in). If you don't have one, you can make an account [here](https://urs.earthdata.nasa.gov/users/new)."
   ]
  },
  {
   "cell_type": "code",
   "execution_count": 11,
   "id": "679b8880-efef-4162-af8c-06d8e84ed3d0",
   "metadata": {},
   "outputs": [
    {
     "name": "stdin",
     "output_type": "stream",
     "text": [
      "Enter your Earthdata Login username:  alexisarlen\n",
      "Enter your Earthdata password:  ········\n"
     ]
    }
   ],
   "source": [
    "auth = earthaccess.login()"
   ]
  },
  {
   "cell_type": "markdown",
   "id": "16743213-ee7f-4a2f-a4a3-5439d9e3e15d",
   "metadata": {},
   "source": [
    "Next, we'll search for datasets containing the MODIS snow cover product *MOD10A1F*."
   ]
  },
  {
   "cell_type": "markdown",
   "id": "7492442a-4071-4f18-8e77-74a280794b6d",
   "metadata": {},
   "source": [
    "# Querying available datasets"
   ]
  },
  {
   "cell_type": "code",
   "execution_count": 12,
   "id": "62b7deb1-0d61-4f28-933c-a938923affed",
   "metadata": {},
   "outputs": [],
   "source": [
    "query = earthaccess.search_datasets(keyword=\"MOD10A1F\",)"
   ]
  },
  {
   "cell_type": "markdown",
   "id": "da627a3e-11e0-400f-af81-ac061b9880b5",
   "metadata": {},
   "source": [
    "Print the first 10 lines from the query, comprising the first two datasets."
   ]
  },
  {
   "cell_type": "code",
   "execution_count": 15,
   "id": "68870a77-9e25-45a3-9dd3-bcdbf230308a",
   "metadata": {},
   "outputs": [
    {
     "name": "stdout",
     "output_type": "stream",
     "text": [
      "{   'concept-id': 'C1646609734-NSIDC_ECS',\n",
      "    'file-type': \"[{'FormatType': 'Native', 'Format': 'HDF-EOS2', \"\n",
      "                 \"'FormatDescription': 'HTTPS'}]\",\n",
      "    'get-data': [   'http://nsidc.org/daac/subscriptions.html',\n",
      "                    'https://n5eil01u.ecs.nsidc.org/MOST/MOD10A1F.061/',\n",
      "                    'https://search.earthdata.nasa.gov/search?q=MOD10A1F+V061',\n",
      "                    'https://nsidc.org/data/data-access-tool/MOD10A1F/versions/61/'],\n",
      "    'short-name': 'MOD10A1F',\n",
      "    'version': '61'}\n",
      "\n",
      "{   'concept-id': 'C2909924695-NSIDC_ECS',\n",
      "    'file-type': \"[{'FormatType': 'Native', 'Format': 'NetCDF', \"\n",
      "                 \"'FormatDescription': 'HTTPS'}]\",\n",
      "    'get-data': [   'https://n5eil01u.ecs.nsidc.org/MOST/NSIDC-0791.001/',\n",
      "                    'https://search.earthdata.nasa.gov/search?q=NSIDC-0791+V001',\n",
      "                    'https://nsidc.org/data/data-access-tool/NSIDC-0791/versions/1/'],\n",
      "    'short-name': 'NSIDC-0791',\n",
      "    'version': '1'}\n",
      "\n"
     ]
    }
   ],
   "source": [
    "for collection in query[:10]:\n",
    "    pprint.pprint(collection.summary(), sort_dicts=True, indent=4)\n",
    "    print('')  # Add a space between collections for readability"
   ]
  },
  {
   "cell_type": "markdown",
   "id": "57db2ff0-de08-4aa1-9fc6-7bfdd4de527f",
   "metadata": {},
   "source": [
    "For each collection, `summary` returns a subset of fields from the collection metadata and Unified Metadata Model (UMM) entry.\n",
    "\n",
    "- `concept-id` is an unique identifier for the collection that is composed of a alphanumeric code and the provider-id for the DAAC.\n",
    "- `short-name` is the name of the dataset that appears on the dataset set landing page. For ICESat-2, `ShortNames` are generally how different products are referred to.\n",
    "- `version` is the version of each collection.\n",
    "- `file-type` gives information about the file format of the collection files.\n",
    "- `get-data` is a collection of URL that can be used to access data, dataset landing pages, and tools.  \n",
    "\n",
    "For _cloud-hosted_ data, there is additional information about the location of the S3 bucket that holds the data and where to get credentials to access the S3 buckets.  In general, you don't need to worry about this information because `earthaccess` handles S3 credentials for you.  Nevertheless it may be useful for troubleshooting. If you only want to search for data in the cloud, you add the additional argument `cloud_hosted=True`.\n",
    "\n",
    "We see that the first dataset in the query is the one we're looking for. Now, lets access the data. "
   ]
  },
  {
   "cell_type": "markdown",
   "id": "4c281e01-df4c-444b-bb41-0166c02eb992",
   "metadata": {},
   "source": [
    "# Accessing Data\n",
    "Above is a query for datatsets, but in general, we want to look over a specefic timeframe and region. The temporal range is identified with standard date strings, and latitude-longitude corners of a bounding box is specified.  Polygons and points, as well as shapefiles can also be specified."
   ]
  },
  {
   "cell_type": "code",
   "execution_count": null,
   "id": "9db03d11-2e07-48e1-a890-7d2bdb4a673b",
   "metadata": {},
   "outputs": [],
   "source": [
    "results = earthaccess.search_data(\n",
    "    short_name = 'ATL06',\n",
    "    version = '006',\n",
    "    cloud_hosted = True,\n",
    "    bounding_box = (-134.7,58.9,-133.9,59.2),\n",
    "    temporal = ('2020-03-01','2020-04-30'),\n",
    "    count = 100\n",
    ")"
   ]
  }
 ],
 "metadata": {
  "kernelspec": {
   "display_name": "Python 3 (ipykernel)",
   "language": "python",
   "name": "python3"
  },
  "language_info": {
   "codemirror_mode": {
    "name": "ipython",
    "version": 3
   },
   "file_extension": ".py",
   "mimetype": "text/x-python",
   "name": "python",
   "nbconvert_exporter": "python",
   "pygments_lexer": "ipython3",
   "version": "3.11.9"
  }
 },
 "nbformat": 4,
 "nbformat_minor": 5
}
